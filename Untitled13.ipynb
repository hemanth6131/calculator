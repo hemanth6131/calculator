{
  "nbformat": 4,
  "nbformat_minor": 0,
  "metadata": {
    "colab": {
      "provenance": [],
      "authorship_tag": "ABX9TyNHuRDAxy9QRtVzWEKUIxnN",
      "include_colab_link": true
    },
    "kernelspec": {
      "name": "python3",
      "display_name": "Python 3"
    },
    "language_info": {
      "name": "python"
    }
  },
  "cells": [
    {
      "cell_type": "markdown",
      "metadata": {
        "id": "view-in-github",
        "colab_type": "text"
      },
      "source": [
        "<a href=\"https://colab.research.google.com/github/hemanth6131/calculator/blob/main/Untitled13.ipynb\" target=\"_parent\"><img src=\"https://colab.research.google.com/assets/colab-badge.svg\" alt=\"Open In Colab\"/></a>"
      ]
    },
    {
      "cell_type": "code",
      "execution_count": 9,
      "metadata": {
        "colab": {
          "base_uri": "https://localhost:8080/"
        },
        "id": "qnmIE0LlIWvH",
        "outputId": "aad87ad6-0327-45c4-e717-50cb16ccd5a7"
      },
      "outputs": [
        {
          "output_type": "stream",
          "name": "stderr",
          "text": [
            "/usr/local/lib/python3.10/dist-packages/sklearn/datasets/_openml.py:968: FutureWarning: The default value of `parser` will change from `'liac-arff'` to `'auto'` in 1.4. You can set `parser='auto'` to silence this warning. Therefore, an `ImportError` will be raised from 1.4 if the dataset is dense and pandas is not installed. Note that the pandas parser may return different data types. See the Notes Section in fetch_openml's API doc for details.\n",
            "  warn(\n"
          ]
        },
        {
          "output_type": "stream",
          "name": "stdout",
          "text": [
            "Iteration 1, loss = 0.32631800\n",
            "Iteration 2, loss = 0.15158678\n",
            "Iteration 3, loss = 0.11201328\n",
            "Iteration 4, loss = 0.09120311\n",
            "Iteration 5, loss = 0.07698485\n",
            "Iteration 6, loss = 0.06772920\n",
            "Iteration 7, loss = 0.05870427\n",
            "Iteration 8, loss = 0.05305290\n",
            "Iteration 9, loss = 0.04814225\n",
            "Iteration 10, loss = 0.04193812\n",
            "Accuracy: 0.9682142857142857\n"
          ]
        },
        {
          "output_type": "stream",
          "name": "stderr",
          "text": [
            "/usr/local/lib/python3.10/dist-packages/sklearn/neural_network/_multilayer_perceptron.py:686: ConvergenceWarning: Stochastic Optimizer: Maximum iterations (10) reached and the optimization hasn't converged yet.\n",
            "  warnings.warn(\n"
          ]
        }
      ],
      "source": [
        "from sklearn.datasets import fetch_openml\n",
        "from sklearn.model_selection import train_test_split\n",
        "from sklearn.neural_network import MLPClassifier\n",
        "from sklearn.metrics import accuracy_score\n",
        "import matplotlib.pyplot as plt\n",
        "\n",
        "# Load the MNIST dataset\n",
        "mnist = fetch_openml('mnist_784')\n",
        "\n",
        "# Splitting the dataset into features (X) and labels (y)\n",
        "X, y = mnist['data'], mnist['target']\n",
        "\n",
        "# Normalize the features (pixel values)\n",
        "X = X / 255.0  # Pixel values range from 0 to 255, normalizing to range 0 to 1\n",
        "\n",
        "# Splitting the data into training and testing sets (80-20 split)\n",
        "X_train, X_test, y_train, y_test = train_test_split(X, y, test_size=0.2, random_state=42)\n",
        "\n",
        "# Initializing the Multi-layer Perceptron (MLP) Classifier\n",
        "classifier = MLPClassifier(hidden_layer_sizes=(50,), max_iter=10, alpha=1e-4,\n",
        "                           solver='sgd', verbose=10, random_state=42, learning_rate_init=.1)\n",
        "\n",
        "# Training the classifier\n",
        "classifier.fit(X_train, y_train)\n",
        "\n",
        "# Predicting on the test set\n",
        "predictions = classifier.predict(X_test)\n",
        "\n",
        "# Calculating accuracy\n",
        "accuracy = accuracy_score(y_test, predictions)\n",
        "print(f\"Accuracy: {accuracy}\")\n",
        "\n",
        "\n"
      ]
    },
    {
      "cell_type": "code",
      "source": [
        "# Visualizing some predicted digits\n",
        "fig, axes = plt.subplots(5, 5, figsize=(8, 8))"
      ],
      "metadata": {
        "colab": {
          "base_uri": "https://localhost:8080/",
          "height": 682
        },
        "id": "W-hjtezTLkBN",
        "outputId": "e0fbc023-8519-44cb-fc35-f67198761349"
      },
      "execution_count": 10,
      "outputs": [
        {
          "output_type": "display_data",
          "data": {
            "text/plain": [
              "<Figure size 800x800 with 25 Axes>"
            ],
            "image/png": "[encoded data removed]"
          },
          "metadata": {}
        }
      ]
    },
    {
      "cell_type": "code",
      "source": [
        "for i, ax in enumerate(axes.flat):\n",
        "    ax.set_title(f\"Predicted: {predictions[i]}\")\n",
        "    ax.axis('off')"
      ],
      "metadata": {
        "id": "3GGj1vnOL5Hn"
      },
      "execution_count": 31,
      "outputs": []
    },
    {
      "cell_type": "code",
      "source": [
        "plt.tight_layout()\n",
        "plt.show()"
      ],
      "metadata": {
        "colab": {
          "base_uri": "https://localhost:8080/",
          "height": 34
        },
        "id": "yw6KQ8_CMB8t",
        "outputId": "a94e4954-b9fa-4aff-fa24-ccf4a4c6f09f"
      },
      "execution_count": 32,
      "outputs": [
        {
          "output_type": "display_data",
          "data": {
            "text/plain": [
              "<Figure size 640x480 with 0 Axes>"
            ]
          },
          "metadata": {}
        }
      ]
    }
  ]
}